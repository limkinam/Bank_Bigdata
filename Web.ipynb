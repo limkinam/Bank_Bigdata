{
 "cells": [
  {
   "cell_type": "code",
   "execution_count": null,
   "metadata": {},
   "outputs": [
    {
     "name": "stdout",
     "output_type": "stream",
     "text": [
      " * Serving Flask app \"__main__\" (lazy loading)\n",
      " * Environment: production\n",
      "   WARNING: This is a development server. Do not use it in a production deployment.\n",
      "   Use a production WSGI server instead.\n",
      " * Debug mode: off\n"
     ]
    },
    {
     "name": "stderr",
     "output_type": "stream",
     "text": [
      " * Running on http://127.0.0.1:5000/ (Press CTRL+C to quit)\n",
      "127.0.0.1 - - [18/Dec/2019 13:25:30] \"\u001b[33mGET / HTTP/1.1\u001b[0m\" 404 -\n",
      "127.0.0.1 - - [18/Dec/2019 13:25:30] \"\u001b[33mGET /favicon.ico HTTP/1.1\u001b[0m\" 404 -\n"
     ]
    }
   ],
   "source": [
    "import pandas as pd\n",
    "from flask import Flask\n",
    "from flask_restful import Resource, Api, reqparse, request\n",
    "from flask_cors import CORS\n",
    "app = Flask(__name__)\n",
    "api = Api(app)\n",
    "cors = CORS(app)\n",
    "app.config['CORS_HEADERS'] = 'Content-Type'\n",
    " \n",
    "class RegistUser(Resource):\n",
    "    def post(self):\n",
    "        parser = reqparse.RequestParser()\n",
    "        parser.add_argument('loan_id', type=str)\n",
    "        parser.add_argument('customer_id', type=str)\n",
    "        parser.add_argument('current_loan_amount', type=str)\n",
    "        parser.add_argument('term', type=str)\n",
    "        parser.add_argument('credit_score', type=str)\n",
    "        parser.add_argument('annual_income', type=str)\n",
    "        parser.add_argument('years_in_current_job', type=str)\n",
    "        parser.add_argument('home_ownership', type=str)\n",
    "        parser.add_argument('purpose', type=str)\n",
    "        parser.add_argument('monthly_dept', type=str)\n",
    "        parser.add_argument('years_of_credit_history', type=str)\n",
    "        parser.add_argument('months_since_last_delinquent', type=str)\n",
    "        parser.add_argument('number_of_open_accounts', type=str)\n",
    "        parser.add_argument('number_of_credit_problems', type=str)\n",
    "        parser.add_argument('current_credit_balance', type=str)\n",
    "        parser.add_argument('maximum_open_credit', type=str)\n",
    "        parser.add_argument('bankruptcies', type=str)\n",
    "        parser.add_argument('tax_liens', type=str)\n",
    "        args = parser.parse_args()\n",
    "        test_new = pd.read_csv('dataset/train_new.csv')\n",
    "        test_new[\"Loan ID\"]=args['loan_id']\n",
    "        test_new[\"Customer ID\"]=args['customer_id']\n",
    "        test_new[\"Current Loan Amount\"]=int(args['current_loan_amount'])\n",
    "        test_new[\"Term\"]=args['term']\n",
    "        test_new[\"Credit Score\"]=int(args['credit_score'])\n",
    "        test_new[\"Annual Income\"]=int(args['annual_income'])\n",
    "        test_new[\"Years in current job\"]=args['years_in_current_job']\n",
    "        test_new[\"Home Ownership\"]=args['home_ownership']\n",
    "        test_new[\"Purpose\"]=args['purpose']\n",
    "        test_new[\"Monthly Debt\"]=int(args['monthly_dept'])\n",
    "        test_new[\"Years of Credit History\"]=float(args['years_of_credit_history'])\n",
    "        test_new[\"Months since last delinquent\"]=float(args['months_since_last_delinquent'])\n",
    "        test_new[\"Number of Open Accounts\"]=int(args['number_of_open_accounts'])\n",
    "        test_new[\"Number of Credit Problems\"]=int(args['number_of_credit_problems'])\n",
    "        test_new[\"Current Credit Balance\"]=int(args['current_credit_balance'])\n",
    "        test_new[\"Maximum Open Credit\"]=int(args['maximum_open_credit'])\n",
    "        test_new[\"Bankruptcies\"]=int(args['bankruptcies'])\n",
    "        test_new[\"Tax Liens\"]=int(args['tax_liens'])\n",
    "        test_new_one = callDataone(test_new)\n",
    "        test_puri_one = sc.fit_transform(test_new_one)\n",
    "        y_pred = kj_model.predict(test_puri_one[0:1])\n",
    "        if y_pred[0]==0:\n",
    "            return \"Charge Off\"\n",
    "        elif y_pred[0]==1:\n",
    "            return \"Fully Paid\"\n",
    "\n",
    "api.add_resource(RegistUser, '/add')\n",
    " \n",
    "if __name__ == '__main__':\n",
    "    app.run()"
   ]
  }
 ],
 "metadata": {
  "kernelspec": {
   "display_name": "Python 3",
   "language": "python",
   "name": "python3"
  },
  "language_info": {
   "codemirror_mode": {
    "name": "ipython",
    "version": 3
   },
   "file_extension": ".py",
   "mimetype": "text/x-python",
   "name": "python",
   "nbconvert_exporter": "python",
   "pygments_lexer": "ipython3",
   "version": "3.7.5"
  }
 },
 "nbformat": 4,
 "nbformat_minor": 2
}
